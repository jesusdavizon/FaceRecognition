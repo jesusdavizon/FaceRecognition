{
 "cells": [
  {
   "cell_type": "code",
   "execution_count": 38,
   "metadata": {},
   "outputs": [
    {
     "name": "stdout",
     "output_type": "stream",
     "text": [
      "Collecting import_ipynb\n",
      "  Downloading import-ipynb-0.1.3.tar.gz (4.0 kB)\n",
      "Building wheels for collected packages: import-ipynb\n",
      "  Building wheel for import-ipynb (setup.py): started\n",
      "  Building wheel for import-ipynb (setup.py): finished with status 'done'\n",
      "  Created wheel for import-ipynb: filename=import_ipynb-0.1.3-py3-none-any.whl size=2979 sha256=de35694221d5e478c570e64c07f4cc38f5005eb7e3f9e01d7168004e66c43ec7\n",
      "  Stored in directory: c:\\users\\jesus davizon.000\\appdata\\local\\pip\\cache\\wheels\\b1\\5e\\dc\\79780689896a056199b0b9f24471e3ee184fbd816df355d5f0\n",
      "Successfully built import-ipynb\n",
      "Installing collected packages: import-ipynb\n",
      "Successfully installed import-ipynb-0.1.3\n"
     ]
    }
   ],
   "source": [
    "#!pip install ipynb\n",
    "!pip install import_ipynb\n",
    "    "
   ]
  },
  {
   "cell_type": "code",
   "execution_count": 2,
   "metadata": {},
   "outputs": [
    {
     "name": "stdout",
     "output_type": "stream",
     "text": [
      "\n",
      " \n",
      "Ingresa la tecla a para guardar una nueva persona: q\n",
      "\n",
      "Un gusto trabajar con usted\n",
      "\n"
     ]
    }
   ],
   "source": [
    "import os\n",
    "from os import remove\n",
    "from os import rmdir\n",
    "from shutil import rmtree\n",
    "\n",
    "\"\"\" #Lectura y creacion de archivos .txt\n",
    "#archivo_texto=open(\"archivo.txt\",\"w\")\n",
    "#frase= \"Hola como estas \\n Muy bien gracias\"\n",
    "#archivo_texto.write(frase)\n",
    "#archivo_texto.close() \n",
    "\n",
    "#archivo_texto=open(\"archivo.txt\",\"r\")\n",
    "#texto=archivo_texto.read()\n",
    "#archivo_texto.close()\n",
    "#print(texto)\n",
    "\n",
    "#archivo_texto=open(\"archivo.txt\",\"r\")\n",
    "#lineas_texto=archivo_texto.readlines() #Guarda el texto en una lista linea por linea\n",
    "#archivo_texto.close()\n",
    "#print(lineas_texto)\n",
    "#print(lineas_texto[0]) \"\"\"\n",
    "\n",
    "folder = 'images/'\n",
    "name= 'Tony'\n",
    "path = folder + name\n",
    "\n",
    "\n",
    "#os.mkdir(path) #crear carpeta\n",
    "#rmdir(path) #borrar carpeta vacia\n",
    "#rmtree(path) #borrar carpeta con archivos \n",
    "\n",
    "%run dataset.ipynb"
   ]
  },
  {
   "cell_type": "code",
   "execution_count": null,
   "metadata": {},
   "outputs": [],
   "source": []
  }
 ],
 "metadata": {
  "kernelspec": {
   "display_name": "Python 3",
   "language": "python",
   "name": "python3"
  },
  "language_info": {
   "codemirror_mode": {
    "name": "ipython",
    "version": 3
   },
   "file_extension": ".py",
   "mimetype": "text/x-python",
   "name": "python",
   "nbconvert_exporter": "python",
   "pygments_lexer": "ipython3",
   "version": "3.7.4"
  }
 },
 "nbformat": 4,
 "nbformat_minor": 2
}
