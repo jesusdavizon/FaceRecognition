{
 "cells": [
  {
   "cell_type": "code",
   "execution_count": 5,
   "metadata": {},
   "outputs": [
    {
     "ename": "ModuleNotFoundError",
     "evalue": "No module named 'audio'",
     "output_type": "error",
     "traceback": [
      "\u001b[1;31m---------------------------------------------------------------------------\u001b[0m",
      "\u001b[1;31mModuleNotFoundError\u001b[0m                       Traceback (most recent call last)",
      "\u001b[1;32m<ipython-input-5-edb7e547ad56>\u001b[0m in \u001b[0;36m<module>\u001b[1;34m\u001b[0m\n\u001b[0;32m      1\u001b[0m \u001b[1;32mimport\u001b[0m \u001b[0mcv2\u001b[0m\u001b[1;33m\u001b[0m\u001b[1;33m\u001b[0m\u001b[0m\n\u001b[1;32m----> 2\u001b[1;33m \u001b[1;32mfrom\u001b[0m \u001b[0maudio\u001b[0m \u001b[1;32mimport\u001b[0m \u001b[1;33m*\u001b[0m\u001b[1;33m\u001b[0m\u001b[1;33m\u001b[0m\u001b[0m\n\u001b[0m\u001b[0;32m      3\u001b[0m \u001b[1;33m\u001b[0m\u001b[0m\n\u001b[0;32m      4\u001b[0m \u001b[0mweb_cam\u001b[0m \u001b[1;33m=\u001b[0m \u001b[0mcv2\u001b[0m\u001b[1;33m.\u001b[0m\u001b[0mVideoCapture\u001b[0m\u001b[1;33m(\u001b[0m\u001b[1;36m0\u001b[0m\u001b[1;33m)\u001b[0m\u001b[1;33m\u001b[0m\u001b[1;33m\u001b[0m\u001b[0m\n\u001b[0;32m      5\u001b[0m \u001b[1;33m\u001b[0m\u001b[0m\n",
      "\u001b[1;31mModuleNotFoundError\u001b[0m: No module named 'audio'"
     ]
    }
   ],
   "source": [
    "import cv2\n",
    "\n",
    "web_cam = cv2.VideoCapture(0)\n",
    "\n",
    "cascPath = \"Cascades\\haarcascade_frontalface_default.xml\"\n",
    "faceCascade = cv2.CascadeClassifier(cascPath)\n",
    "\n",
    "count = 0\n",
    "\n",
    "archivo_texto=open(\"archivo.txt\",\"r\")\n",
    "texto=archivo_texto.read()\n",
    "archivo_texto.close()\n",
    "\n",
    "folder='images/'\n",
    "name= texto + '/' + texto\n",
    "path = folder + name\n",
    "\n",
    "\n",
    "\n",
    "while(True):\n",
    "    _, imagen_marco = web_cam.read()\n",
    "\n",
    "    grises = cv2.cvtColor(imagen_marco, cv2.COLOR_BGR2GRAY)\n",
    "\n",
    "    rostro = faceCascade.detectMultiScale(grises, 1.5, 5)\n",
    "\n",
    "    for(x,y,w,h) in rostro:\n",
    "        cv2.rectangle(imagen_marco, (x,y), (x+w, y+h), (255,0,0), 4)\n",
    "        count += 1\n",
    "       \n",
    "        cv2.imwrite(path+str(count)+\".jpg\", grises[y:y+h, x:x+w])\n",
    "        cv2.imshow(\"Creando Dataset\", imagen_marco)\n",
    "\n",
    "    if cv2.waitKey(1) & 0xFF == ord('q'):\n",
    "        break\n",
    "    \n",
    "    elif count >= 400:\n",
    "        break\n",
    "\n",
    "\n",
    "# Cuando todo está hecho, liberamos la captura\n",
    "web_cam.release()\n",
    "cv2.destroyAllWindows()\n",
    "%run entrenamiento.ipynb"
   ]
  },
  {
   "cell_type": "code",
   "execution_count": null,
   "metadata": {},
   "outputs": [],
   "source": []
  }
 ],
 "metadata": {
  "kernelspec": {
   "display_name": "Python 3",
   "language": "python",
   "name": "python3"
  },
  "language_info": {
   "codemirror_mode": {
    "name": "ipython",
    "version": 3
   },
   "file_extension": ".py",
   "mimetype": "text/x-python",
   "name": "python",
   "nbconvert_exporter": "python",
   "pygments_lexer": "ipython3",
   "version": "3.7.4"
  }
 },
 "nbformat": 4,
 "nbformat_minor": 2
}
