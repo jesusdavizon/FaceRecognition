{
 "cells": [
  {
   "cell_type": "code",
   "execution_count": 2,
   "metadata": {},
   "outputs": [
    {
     "name": "stdout",
     "output_type": "stream",
     "text": [
      "Bienvenido al reconocimiento facial por medio de la webcam: \n",
      "\n",
      "Ingresa la tecla S para comenzar: S\n",
      "\n",
      " \n",
      "Ingresa la tecla a para guardar una nueva persona: a\n",
      "Cual es el nombre...\n",
      "El nombre guardado es: Mario\n",
      "\n",
      " \n",
      "Ingresa la tecla a para guardar una nueva persona: a\n",
      "Cual es el nombre...\n",
      "El nombre guardado es: Obama\n",
      "\n",
      " \n",
      "Ingresa la tecla a para guardar una nueva persona: w\n",
      "\n",
      "Un gusto trabajar con usted\n",
      "\n"
     ]
    }
   ],
   "source": [
    "from io import open\n",
    "import os\n",
    "from os import rmdir\n",
    "from shutil import rmtree\n",
    "\n",
    "print(\"Bienvenido al reconocimiento facial por medio de la webcam: \\n\")\n",
    "selection=input(\"Ingresa la tecla S para comenzar: \")\n",
    "\n",
    "\n",
    "if selection=='S':\n",
    "    %run detectar_identificar_rostros.ipynb\n",
    "    \n",
    "    \n",
    "    \n",
    "\n",
    "\n"
   ]
  }
 ],
 "metadata": {
  "kernelspec": {
   "display_name": "Python 3",
   "language": "python",
   "name": "python3"
  },
  "language_info": {
   "codemirror_mode": {
    "name": "ipython",
    "version": 3
   },
   "file_extension": ".py",
   "mimetype": "text/x-python",
   "name": "python",
   "nbconvert_exporter": "python",
   "pygments_lexer": "ipython3",
   "version": "3.7.4"
  }
 },
 "nbformat": 4,
 "nbformat_minor": 2
}
