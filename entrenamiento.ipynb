{
 "cells": [
  {
   "cell_type": "code",
   "execution_count": 3,
   "metadata": {},
   "outputs": [],
   "source": [
    "import cv2\n",
    "import os\n",
    "import numpy as np\n",
    "from PIL import Image\n",
    "import pickle\n",
    "\n",
    "cascPath = \"Cascades/haarcascade_frontalface_alt2.xml\"\n",
    "faceCascade = cv2.CascadeClassifier(cascPath)\n",
    "\n",
    "#reconocimiento con opencv\n",
    "reconocimiento = cv2.face.LBPHFaceRecognizer_create()\n",
    "\n",
    "BASE_DIR = os.path.dirname(os.path.abspath('__file__'))\n",
    "image_dir = os.path.join(BASE_DIR,\"images\")\n",
    "\n",
    "\n",
    "current_id = 0\n",
    "etiquetas_id = {}\n",
    "y_etiquetas = []\n",
    "x_entrenamiento = []\n",
    "\n",
    "for root, dirs, archivos in os.walk(image_dir):\n",
    "    for archivo in archivos:\n",
    "        if archivo.endswith(\"png\") or archivo.endswith(\"jpg\"):\n",
    "            pathImagen = os.path.join(root,archivo)\n",
    "            etiqueta = os.path.basename(root).replace(\" \", \"-\")#.lower()\n",
    "            #print(etiqueta,pathImagen)\n",
    "\n",
    "            #Creando las etiquetas\n",
    "            if not etiqueta in etiquetas_id:                \n",
    "                etiquetas_id[etiqueta] = current_id\n",
    "                current_id += 1            \n",
    "            id_ = etiquetas_id[etiqueta]\n",
    "            #print(etiquetas_id)\n",
    "\n",
    "            pil_image = Image.open(pathImagen).convert(\"L\")\n",
    "            tamanio = (550,550)\n",
    "            imagenFinal = pil_image.resize(tamanio, Image.ANTIALIAS)\n",
    "            image_array = np.array(pil_image,\"uint8\")\n",
    "            #print(image_array)\n",
    "\n",
    "            rostros = faceCascade.detectMultiScale(image_array, 1.5, 5)\n",
    "\n",
    "            for (x,y,w,h) in rostros:\n",
    "                roi = image_array[y:y+h, x:x+w]\n",
    "                x_entrenamiento.append(roi)\n",
    "                y_etiquetas.append(id_)\n",
    "\n",
    "\n",
    "#print(y_etiquetas)                \n",
    "#print(x_entrenamiento)\n",
    "with open(\"labels.pickle\",'wb') as f:\n",
    "    pickle.dump(etiquetas_id, f)\n",
    "\n",
    "reconocimiento.train(x_entrenamiento, np.array(y_etiquetas))\n",
    "reconocimiento.save(\"entrenamiento.yml\")\n",
    "%run detectar_identificar_rostros.ipynb"
   ]
  },
  {
   "cell_type": "code",
   "execution_count": null,
   "metadata": {},
   "outputs": [],
   "source": []
  }
 ],
 "metadata": {
  "kernelspec": {
   "display_name": "Python 3",
   "language": "python",
   "name": "python3"
  },
  "language_info": {
   "codemirror_mode": {
    "name": "ipython",
    "version": 3
   },
   "file_extension": ".py",
   "mimetype": "text/x-python",
   "name": "python",
   "nbconvert_exporter": "python",
   "pygments_lexer": "ipython3",
   "version": "3.7.4"
  }
 },
 "nbformat": 4,
 "nbformat_minor": 2
}
