{
 "cells": [
  {
   "cell_type": "code",
   "execution_count": 10,
   "metadata": {},
   "outputs": [
    {
     "name": "stdout",
     "output_type": "stream",
     "text": [
      "Requirement already satisfied: SpeechRecognition in c:\\anaconda\\lib\\site-packages (3.8.1)\n"
     ]
    }
   ],
   "source": [
    "#!pip install SpeechRecognition"
   ]
  },
  {
   "cell_type": "code",
   "execution_count": null,
   "metadata": {},
   "outputs": [],
   "source": [
    "# Truzz Blogg - Youtube link: https://www.youtube.com/watch?v=KcjHfnCteZg\n",
    "# Speech recognition in Python ::: How to convert Speech to Text\n",
    "import os\n",
    "from io import open\n",
    "\n",
    "import speech_recognition as sr\n",
    "\n",
    "folder = 'images/'\n",
    "action=0\n",
    "\n",
    "r = sr.Recognizer()\n",
    "\n",
    "while (action==0):\n",
    "    with sr.Microphone() as source:\n",
    "        print(\"Cual es el nombre...\")\n",
    "        audio = r.listen(source)\n",
    "\n",
    "        try:\n",
    "            text = r.recognize_google(audio)    # language='pt-BR'\n",
    "            print(\"El nombre guardado es: {}\".format(text,'es-ES'))\n",
    "\n",
    "            path = folder + text\n",
    "            os.mkdir(path)\n",
    "\n",
    "            archivo_texto=open(\"archivo.txt\",\"w\")\n",
    "            archivo_texto.write(text)\n",
    "            archivo_texto.close() \n",
    "            action=1\n",
    "\n",
    "            %run dataset.ipynb\n",
    "        except:\n",
    "            print(\"Lo sentimos, no hemos podido entenderte! \\nIntentalo de nuevo \\n\\n\")"
   ]
  },
  {
   "cell_type": "code",
   "execution_count": null,
   "metadata": {},
   "outputs": [],
   "source": []
  }
 ],
 "metadata": {
  "kernelspec": {
   "display_name": "Python 3",
   "language": "python",
   "name": "python3"
  },
  "language_info": {
   "codemirror_mode": {
    "name": "ipython",
    "version": 3
   },
   "file_extension": ".py",
   "mimetype": "text/x-python",
   "name": "python",
   "nbconvert_exporter": "python",
   "pygments_lexer": "ipython3",
   "version": "3.7.4"
  }
 },
 "nbformat": 4,
 "nbformat_minor": 2
}
